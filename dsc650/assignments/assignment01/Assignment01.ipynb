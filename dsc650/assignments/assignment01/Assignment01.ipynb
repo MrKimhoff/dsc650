{
 "cells": [
  {
   "cell_type": "markdown",
   "metadata": {
    "pycharm": {
     "name": "#%% md\n"
    }
   },
   "source": [
    "# Taylor Imhof\n",
    "# Bellevue University | DSC 650\n",
    "# Assignment01: Setting Up Python Environment\n",
    "# Date: 6/22/2022"
   ]
  },
  {
   "cell_type": "code",
   "execution_count": 1,
   "metadata": {
    "pycharm": {
     "name": "#%%\n"
    }
   },
   "outputs": [],
   "source": [
    "# change directory to dsc650 root dir\n",
    "import os\n",
    "\n",
    "# check current dir\n",
    "# os.getcwd()\n",
    "\n",
    "os.chdir('C:/Users/taylo/OneDrive/Documents/dsc650/')"
   ]
  },
  {
   "cell_type": "code",
   "execution_count": 2,
   "metadata": {
    "pycharm": {
     "name": "#%%\n"
    }
   },
   "outputs": [
    {
     "name": "stdout",
     "output_type": "stream",
     "text": [
      "60000 train samples\n",
      "10000 test samples\n",
      "Model: \"sequential\"\n",
      "_________________________________________________________________\n",
      "Layer (type)                 Output Shape              Param #   \n",
      "=================================================================\n",
      "dense (Dense)                (None, 512)               401920    \n",
      "_________________________________________________________________\n",
      "dropout (Dropout)            (None, 512)               0         \n",
      "_________________________________________________________________\n",
      "dense_1 (Dense)              (None, 512)               262656    \n",
      "_________________________________________________________________\n",
      "dropout_1 (Dropout)          (None, 512)               0         \n",
      "_________________________________________________________________\n",
      "dense_2 (Dense)              (None, 10)                5130      \n",
      "=================================================================\n",
      "Total params: 669,706\n",
      "Trainable params: 669,706\n",
      "Non-trainable params: 0\n",
      "_________________________________________________________________\n",
      "Train on 60000 samples, validate on 10000 samples\n",
      "Epoch 1/20\n",
      "60000/60000 [==============================] - 9s 150us/sample - loss: 0.2467 - accuracy: 0.9243 - val_loss: 0.1014 - val_accuracy: 0.9693\n",
      "Epoch 2/20\n",
      "60000/60000 [==============================] - 8s 128us/sample - loss: 0.1029 - accuracy: 0.9686 - val_loss: 0.0763 - val_accuracy: 0.9769\n",
      "Epoch 3/20\n",
      "60000/60000 [==============================] - 8s 137us/sample - loss: 0.0752 - accuracy: 0.9770 - val_loss: 0.0749 - val_accuracy: 0.9798\n",
      "Epoch 4/20\n",
      "60000/60000 [==============================] - 7s 117us/sample - loss: 0.0609 - accuracy: 0.9816 - val_loss: 0.0754 - val_accuracy: 0.9802\n",
      "Epoch 5/20\n",
      "60000/60000 [==============================] - 6s 106us/sample - loss: 0.0515 - accuracy: 0.9845 - val_loss: 0.0717 - val_accuracy: 0.9823\n",
      "Epoch 6/20\n",
      "60000/60000 [==============================] - 6s 103us/sample - loss: 0.0423 - accuracy: 0.9869 - val_loss: 0.0759 - val_accuracy: 0.9801\n",
      "Epoch 7/20\n",
      "60000/60000 [==============================] - 9s 148us/sample - loss: 0.0380 - accuracy: 0.9880 - val_loss: 0.0708 - val_accuracy: 0.9823\n",
      "Epoch 8/20\n",
      "60000/60000 [==============================] - 10s 169us/sample - loss: 0.0336 - accuracy: 0.9901 - val_loss: 0.0875 - val_accuracy: 0.9804\n",
      "Epoch 9/20\n",
      "60000/60000 [==============================] - 9s 152us/sample - loss: 0.0297 - accuracy: 0.9914 - val_loss: 0.0774 - val_accuracy: 0.9825\n",
      "Epoch 10/20\n",
      "60000/60000 [==============================] - 9s 148us/sample - loss: 0.0277 - accuracy: 0.9922 - val_loss: 0.0814 - val_accuracy: 0.9843\n",
      "Epoch 11/20\n",
      "60000/60000 [==============================] - 7s 122us/sample - loss: 0.0269 - accuracy: 0.9921 - val_loss: 0.0853 - val_accuracy: 0.9839\n",
      "Epoch 12/20\n",
      "60000/60000 [==============================] - 8s 137us/sample - loss: 0.0244 - accuracy: 0.9931 - val_loss: 0.0913 - val_accuracy: 0.9832\n",
      "Epoch 13/20\n",
      "60000/60000 [==============================] - 8s 139us/sample - loss: 0.0221 - accuracy: 0.9937 - val_loss: 0.0848 - val_accuracy: 0.9849\n",
      "Epoch 14/20\n",
      "60000/60000 [==============================] - 9s 146us/sample - loss: 0.0212 - accuracy: 0.9938 - val_loss: 0.0915 - val_accuracy: 0.9852\n",
      "Epoch 15/20\n",
      "60000/60000 [==============================] - 10s 161us/sample - loss: 0.0199 - accuracy: 0.9943 - val_loss: 0.1053 - val_accuracy: 0.9842\n",
      "Epoch 16/20\n",
      "60000/60000 [==============================] - 8s 141us/sample - loss: 0.0208 - accuracy: 0.9946 - val_loss: 0.1107 - val_accuracy: 0.9836\n",
      "Epoch 17/20\n",
      "60000/60000 [==============================] - 8s 136us/sample - loss: 0.0172 - accuracy: 0.9951 - val_loss: 0.1133 - val_accuracy: 0.9855\n",
      "Epoch 18/20\n",
      "60000/60000 [==============================] - 8s 141us/sample - loss: 0.0154 - accuracy: 0.9954 - val_loss: 0.1176 - val_accuracy: 0.9839\n",
      "Epoch 19/20\n",
      "60000/60000 [==============================] - 8s 135us/sample - loss: 0.0177 - accuracy: 0.9953 - val_loss: 0.1061 - val_accuracy: 0.9862\n",
      "Epoch 20/20\n",
      "60000/60000 [==============================] - 7s 121us/sample - loss: 0.0169 - accuracy: 0.9957 - val_loss: 0.1321 - val_accuracy: 0.9846\n",
      "Test loss: 0.1321271433721706\n",
      "Test accuracy: 0.9846\n"
     ]
    }
   ],
   "source": [
    "# 1.1.a. Run Keras MNIST MLP Examples\n",
    "%run examples/mnist_mlp.py"
   ]
  },
  {
   "cell_type": "code",
   "execution_count": 3,
   "metadata": {
    "pycharm": {
     "name": "#%%\n"
    }
   },
   "outputs": [
    {
     "name": "stdout",
     "output_type": "stream",
     "text": [
      "Pi is roughly 3.141240\n"
     ]
    }
   ],
   "source": [
    "# 1.1.b Run PySpark Example\n",
    "%run examples/pi.py"
   ]
  }
 ],
 "metadata": {
  "kernelspec": {
   "display_name": "Python 3",
   "language": "python",
   "name": "python3"
  },
  "language_info": {
   "codemirror_mode": {
    "name": "ipython",
    "version": 3
   },
   "file_extension": ".py",
   "mimetype": "text/x-python",
   "name": "python",
   "nbconvert_exporter": "python",
   "pygments_lexer": "ipython3",
   "version": "3.6.10"
  }
 },
 "nbformat": 4,
 "nbformat_minor": 1
}